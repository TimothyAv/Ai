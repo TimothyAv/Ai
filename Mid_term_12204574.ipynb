{
  "nbformat": 4,
  "nbformat_minor": 0,
  "metadata": {
    "colab": {
      "provenance": [],
      "authorship_tag": "ABX9TyOrqRZX05EZ8EcLJKTv/aY3",
      "include_colab_link": true
    },
    "kernelspec": {
      "name": "python3",
      "display_name": "Python 3"
    },
    "language_info": {
      "name": "python"
    }
  },
  "cells": [
    {
      "cell_type": "markdown",
      "metadata": {
        "id": "view-in-github",
        "colab_type": "text"
      },
      "source": [
        "<a href=\"https://colab.research.google.com/github/TimothyAv/Ai/blob/main/Mid_term_12204574.ipynb\" target=\"_parent\"><img src=\"https://colab.research.google.com/assets/colab-badge.svg\" alt=\"Open In Colab\"/></a>"
      ]
    },
    {
      "cell_type": "markdown",
      "source": [
        "**Task 1: Data Simulation**"
      ],
      "metadata": {
        "id": "_i5UfofBGlpX"
      }
    },
    {
      "cell_type": "code",
      "source": [
        "import numpy as np\n",
        "\n",
        "# Task 1.1: Generate sequential data\n",
        "def generate_sequential_data(num_sequences, sequence_length):\n",
        "    # Simulate data for temperature, vibration, and belt speed\n",
        "    temperature_data = np.random.rand(num_sequences, sequence_length)\n",
        "    vibration_data = np.random.rand(num_sequences, sequence_length)\n",
        "    belt_speed_data = np.random.rand(num_sequences, sequence_length)\n",
        "    return temperature_data, vibration_data, belt_speed_data\n",
        "\n",
        "# Task 1.5: Modify the function to include both failure detection and non-detection scenarios\n",
        "def generate_sequential_data_with_failure(num_sequences, sequence_length, failure_prob):\n",
        "    temperature_data = np.random.rand(num_sequences, sequence_length)\n",
        "    vibration_data = np.random.rand(num_sequences, sequence_length)\n",
        "    belt_speed_data = np.random.rand(num_sequences, sequence_length)\n",
        "\n",
        "    # Introduce failure scenarios based on the probability\n",
        "    for i in range(num_sequences):\n",
        "        if np.random.rand() < failure_prob:\n",
        "            # Simulate a failure scenario\n",
        "            temperature_data[i] += np.random.normal(0, 0.2, sequence_length)\n",
        "            vibration_data[i] += np.random.normal(0, 0.2, sequence_length)\n",
        "            belt_speed_data[i] += np.random.normal(0, 0.2, sequence_length)\n",
        "\n",
        "    return temperature_data, vibration_data, belt_speed_data\n",
        "\n",
        "# Task 1.6: Generate a dataset with specific sequences and sequence length\n",
        "num_sequences = 100\n",
        "sequence_length = 50\n",
        "failure_prob = 0.1\n",
        "temperature, vibration, belt_speed = generate_sequential_data_with_failure(num_sequences, sequence_length, failure_prob)\n"
      ],
      "metadata": {
        "id": "BNVNoCk2K7Bn"
      },
      "execution_count": 14,
      "outputs": []
    },
    {
      "cell_type": "markdown",
      "source": [
        "**Task 2: Data Preprocessing**"
      ],
      "metadata": {
        "id": "tfcy0CrUGtgu"
      }
    },
    {
      "cell_type": "code",
      "source": [
        "from sklearn.preprocessing import StandardScaler\n",
        "from sklearn.model_selection import train_test_split\n",
        "\n",
        "# Task 2a: Implement the preprocess sequential data function (not shown, could involve scaling, etc.)\n",
        "\n",
        "# Task 2b: Use the StandardScaler to scale the data\n",
        "scaler = StandardScaler()\n",
        "temperature_scaled = scaler.fit_transform(temperature)\n",
        "vibration_scaled = scaler.fit_transform(vibration)\n",
        "belt_speed_scaled = scaler.fit_transform(belt_speed)\n",
        "\n",
        "# Task 2c: Split the data into training and testing sets\n",
        "X_train_temp, X_test_temp, X_train_vib, X_test_vib, X_train_belt, X_test_belt = train_test_split(\n",
        "    temperature_scaled, vibration_scaled, belt_speed_scaled, test_size=0.2, random_state=42)\n"
      ],
      "metadata": {
        "id": "T5TTkkpQK9UI"
      },
      "execution_count": 15,
      "outputs": []
    },
    {
      "cell_type": "markdown",
      "source": [
        "**Task 3: LSTM Model**"
      ],
      "metadata": {
        "id": "6Q6BmCKAHfXz"
      }
    },
    {
      "cell_type": "code",
      "source": [
        "import tensorflow as tf\n",
        "from tensorflow.keras.models import Sequential\n",
        "from tensorflow.keras.layers import LSTM, Dense\n",
        "\n",
        "# Task 3a: Create an LSTM model using TensorFlow and Keras\n",
        "model = Sequential()\n",
        "\n",
        "# Task 3b: Define the model architecture with suitable layers\n",
        "model.add(LSTM(units=32, activation='relu', input_shape=(sequence_length, 1)))\n",
        "model.add(Dense(1))\n",
        "\n",
        "# Task 3c: Compile the model with an appropriate loss function and optimizer\n",
        "model.compile(loss='mean_squared_error', optimizer='adam')\n"
      ],
      "metadata": {
        "id": "sgW-lohDLf6N"
      },
      "execution_count": 16,
      "outputs": []
    },
    {
      "cell_type": "markdown",
      "source": [
        "**Task 4: Model Training**"
      ],
      "metadata": {
        "id": "AbhZKabrHqVd"
      }
    },
    {
      "cell_type": "code",
      "source": [
        "# Task 4a: Train the LSTM model using the training data\n",
        "epochs = 50\n",
        "batch_size = 32\n",
        "model.fit(X_train_temp, X_train_temp, epochs=epochs, batch_size=batch_size)\n",
        "\n",
        "# Task 4b: Specify the number of epochs and batch size for training\n",
        "\n",
        "# Task 4c: Monitor the training process and evaluate the model’s performance (not shown)\n"
      ],
      "metadata": {
        "colab": {
          "base_uri": "https://localhost:8080/"
        },
        "id": "KBKHW_77LjPY",
        "outputId": "410afbce-b0ef-46bc-fb11-0a14a77e01c2"
      },
      "execution_count": 17,
      "outputs": [
        {
          "output_type": "stream",
          "name": "stdout",
          "text": [
            "Epoch 1/50\n",
            "3/3 [==============================] - 1s 19ms/step - loss: 1.0146\n",
            "Epoch 2/50\n",
            "3/3 [==============================] - 0s 19ms/step - loss: 1.0101\n",
            "Epoch 3/50\n",
            "3/3 [==============================] - 0s 21ms/step - loss: 1.0096\n",
            "Epoch 4/50\n",
            "3/3 [==============================] - 0s 20ms/step - loss: 1.0100\n",
            "Epoch 5/50\n",
            "3/3 [==============================] - 0s 21ms/step - loss: 1.0093\n",
            "Epoch 6/50\n",
            "3/3 [==============================] - 0s 23ms/step - loss: 1.0087\n",
            "Epoch 7/50\n",
            "3/3 [==============================] - 0s 21ms/step - loss: 1.0081\n",
            "Epoch 8/50\n",
            "3/3 [==============================] - 0s 25ms/step - loss: 1.0081\n",
            "Epoch 9/50\n",
            "3/3 [==============================] - 0s 21ms/step - loss: 1.0080\n",
            "Epoch 10/50\n",
            "3/3 [==============================] - 0s 22ms/step - loss: 1.0076\n",
            "Epoch 11/50\n",
            "3/3 [==============================] - 0s 21ms/step - loss: 1.0072\n",
            "Epoch 12/50\n",
            "3/3 [==============================] - 0s 20ms/step - loss: 1.0067\n",
            "Epoch 13/50\n",
            "3/3 [==============================] - 0s 20ms/step - loss: 1.0064\n",
            "Epoch 14/50\n",
            "3/3 [==============================] - 0s 20ms/step - loss: 1.0062\n",
            "Epoch 15/50\n",
            "3/3 [==============================] - 0s 20ms/step - loss: 1.0056\n",
            "Epoch 16/50\n",
            "3/3 [==============================] - 0s 20ms/step - loss: 1.0050\n",
            "Epoch 17/50\n",
            "3/3 [==============================] - 0s 20ms/step - loss: 1.0048\n",
            "Epoch 18/50\n",
            "3/3 [==============================] - 0s 19ms/step - loss: 1.0046\n",
            "Epoch 19/50\n",
            "3/3 [==============================] - 0s 23ms/step - loss: 1.0033\n",
            "Epoch 20/50\n",
            "3/3 [==============================] - 0s 20ms/step - loss: 1.0025\n",
            "Epoch 21/50\n",
            "3/3 [==============================] - 0s 26ms/step - loss: 1.0016\n",
            "Epoch 22/50\n",
            "3/3 [==============================] - 0s 22ms/step - loss: 1.0007\n",
            "Epoch 23/50\n",
            "3/3 [==============================] - 0s 20ms/step - loss: 0.9990\n",
            "Epoch 24/50\n",
            "3/3 [==============================] - 0s 22ms/step - loss: 0.9976\n",
            "Epoch 25/50\n",
            "3/3 [==============================] - 0s 20ms/step - loss: 0.9960\n",
            "Epoch 26/50\n",
            "3/3 [==============================] - 0s 20ms/step - loss: 0.9950\n",
            "Epoch 27/50\n",
            "3/3 [==============================] - 0s 20ms/step - loss: 0.9940\n",
            "Epoch 28/50\n",
            "3/3 [==============================] - 0s 20ms/step - loss: 0.9933\n",
            "Epoch 29/50\n",
            "3/3 [==============================] - 0s 20ms/step - loss: 0.9935\n",
            "Epoch 30/50\n",
            "3/3 [==============================] - 0s 23ms/step - loss: 0.9930\n",
            "Epoch 31/50\n",
            "3/3 [==============================] - 0s 21ms/step - loss: 0.9928\n",
            "Epoch 32/50\n",
            "3/3 [==============================] - 0s 20ms/step - loss: 0.9926\n",
            "Epoch 33/50\n",
            "3/3 [==============================] - 0s 21ms/step - loss: 0.9925\n",
            "Epoch 34/50\n",
            "3/3 [==============================] - 0s 20ms/step - loss: 0.9923\n",
            "Epoch 35/50\n",
            "3/3 [==============================] - 0s 20ms/step - loss: 0.9924\n",
            "Epoch 36/50\n",
            "3/3 [==============================] - 0s 23ms/step - loss: 0.9924\n",
            "Epoch 37/50\n",
            "3/3 [==============================] - 0s 21ms/step - loss: 0.9921\n",
            "Epoch 38/50\n",
            "3/3 [==============================] - 0s 22ms/step - loss: 0.9921\n",
            "Epoch 39/50\n",
            "3/3 [==============================] - 0s 21ms/step - loss: 0.9920\n",
            "Epoch 40/50\n",
            "3/3 [==============================] - 0s 20ms/step - loss: 0.9922\n",
            "Epoch 41/50\n",
            "3/3 [==============================] - 0s 20ms/step - loss: 0.9921\n",
            "Epoch 42/50\n",
            "3/3 [==============================] - 0s 20ms/step - loss: 0.9920\n",
            "Epoch 43/50\n",
            "3/3 [==============================] - 0s 20ms/step - loss: 0.9918\n",
            "Epoch 44/50\n",
            "3/3 [==============================] - 0s 20ms/step - loss: 0.9919\n",
            "Epoch 45/50\n",
            "3/3 [==============================] - 0s 20ms/step - loss: 0.9919\n",
            "Epoch 46/50\n",
            "3/3 [==============================] - 0s 21ms/step - loss: 0.9920\n",
            "Epoch 47/50\n",
            "3/3 [==============================] - 0s 20ms/step - loss: 0.9922\n",
            "Epoch 48/50\n",
            "3/3 [==============================] - 0s 23ms/step - loss: 0.9920\n",
            "Epoch 49/50\n",
            "3/3 [==============================] - 0s 19ms/step - loss: 0.9919\n",
            "Epoch 50/50\n",
            "3/3 [==============================] - 0s 21ms/step - loss: 0.9919\n"
          ]
        },
        {
          "output_type": "execute_result",
          "data": {
            "text/plain": [
              "<keras.src.callbacks.History at 0x7fba7a25c340>"
            ]
          },
          "metadata": {},
          "execution_count": 17
        }
      ]
    },
    {
      "cell_type": "markdown",
      "source": [
        "**Task 5: Real-time Simulation**"
      ],
      "metadata": {
        "id": "0VkFCGCJJRay"
      }
    },
    {
      "cell_type": "code",
      "source": [
        "import numpy as np\n",
        "import time\n",
        "\n",
        "# Task 5a: Simulate real-time data for conveyor belts\n",
        "num_iterations = 5  # Define the number of iterations\n",
        "iteration_count = 0  # Initialize the iteration count\n",
        "\n",
        "while iteration_count < num_iterations:\n",
        "    # Simulate one time step of data (you can replace this with your actual data generation logic)\n",
        "    simulated_data = np.random.rand(1, sequence_length, 1)\n",
        "\n",
        "    # Preprocess the simulated data (use the preprocessing steps from Task 2)\n",
        "\n",
        "    # Make predictions using the trained model\n",
        "    predictions = model.predict(simulated_data)\n",
        "\n",
        "    # Task 5c: Implement alerting logic to notify maintenance teams when a failure is predicted\n",
        "    failure_threshold = 0.1  # Adjust this threshold as needed\n",
        "    if predictions[0, 0] > failure_threshold:\n",
        "        # Send an alert to the maintenance team (you can replace this with actual alerting logic)\n",
        "        print(\"Failure predicted. Alert maintenance team.\")\n",
        "\n",
        "    # Increment the iteration count\n",
        "    iteration_count += 1\n",
        "\n",
        "    # Sleep to simulate real-time behavior (adjust the sleep time as needed)\n",
        "    time.sleep(1)  # Sleep for 1 second between time steps\n",
        "\n"
      ],
      "metadata": {
        "colab": {
          "base_uri": "https://localhost:8080/"
        },
        "id": "kjF3FGahL_6j",
        "outputId": "340d51b3-fd5c-44af-e807-8c6a629d492c"
      },
      "execution_count": 23,
      "outputs": [
        {
          "output_type": "stream",
          "name": "stdout",
          "text": [
            "1/1 [==============================] - 0s 37ms/step\n",
            "Failure predicted. Alert maintenance team.\n",
            "1/1 [==============================] - 0s 25ms/step\n",
            "Failure predicted. Alert maintenance team.\n",
            "1/1 [==============================] - 0s 27ms/step\n",
            "Failure predicted. Alert maintenance team.\n",
            "1/1 [==============================] - 0s 24ms/step\n",
            "Failure predicted. Alert maintenance team.\n",
            "1/1 [==============================] - 0s 24ms/step\n",
            "Failure predicted. Alert maintenance team.\n"
          ]
        }
      ]
    },
    {
      "cell_type": "markdown",
      "source": [
        "**Task 6: Completion**"
      ],
      "metadata": {
        "id": "AJ72QCNeN2u6"
      }
    },
    {
      "cell_type": "code",
      "source": [
        "# Task 6a: Run the simulation for a specified number of iterations\n",
        "num_iterations = 10  # Adjust as needed\n",
        "\n",
        "for iteration in range(num_iterations):\n",
        "    # Run the real-time simulation code from Task 5\n",
        "\n",
        "# Task 6b: Document the results, including predictions and alerting events (not shown in code, you should include code here to document results)\n",
        "\n",
        "# Task 6c: Write a summary report explaining the project, data generation, model training, and results\n",
        "# You can create a summary report in Markdown format\n",
        " with open(\"summary_report.md\", \"w\") as report_file:\n",
        "    report_file.write(\"## Summary Report\\n\")\n",
        "    report_file.write(\"This report summarizes the predictive maintenance project for conveyor belts.\\n\")\n",
        "    # Include details about data generation, model training, and results in the report\n",
        "\n"
      ],
      "metadata": {
        "id": "3LdKPQyEOztz"
      },
      "execution_count": 33,
      "outputs": []
    }
  ]
}