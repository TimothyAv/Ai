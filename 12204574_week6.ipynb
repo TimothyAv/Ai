{
  "nbformat": 4,
  "nbformat_minor": 0,
  "metadata": {
    "colab": {
      "provenance": [],
      "authorship_tag": "ABX9TyMNYU9sGdbauD6+QFGZJj7q",
      "include_colab_link": true
    },
    "kernelspec": {
      "name": "python3",
      "display_name": "Python 3"
    },
    "language_info": {
      "name": "python"
    }
  },
  "cells": [
    {
      "cell_type": "markdown",
      "metadata": {
        "id": "view-in-github",
        "colab_type": "text"
      },
      "source": [
        "<a href=\"https://colab.research.google.com/github/TimothyAv/Ai/blob/main/12204574_week6.ipynb\" target=\"_parent\"><img src=\"https://colab.research.google.com/assets/colab-badge.svg\" alt=\"Open In Colab\"/></a>"
      ]
    },
    {
      "cell_type": "markdown",
      "source": [
        "***Deep Learning***\n",
        "===="
      ],
      "metadata": {
        "id": "BSCyJb88lcyb"
      }
    },
    {
      "cell_type": "code",
      "source": [
        "import tensorflow as tf\n",
        "\n",
        "# Load the MNIST dataset\n",
        "mnist = tf.keras.datasets.mnist\n",
        "\n",
        "# Split the dataset into training and testing sets\n",
        "(train_images, train_labels), (test_images, test_labels) = mnist.load_data()\n",
        "\n",
        "# Normalize the pixel values to the range [0, 1]\n",
        "train_images = train_images / 255.0\n",
        "test_images = test_images / 255.0"
      ],
      "metadata": {
        "colab": {
          "base_uri": "https://localhost:8080/"
        },
        "id": "Qkzn1C40mT_y",
        "outputId": "9bb46eb0-50ca-4d5d-8136-e738a45606dc"
      },
      "execution_count": null,
      "outputs": [
        {
          "output_type": "stream",
          "name": "stdout",
          "text": [
            "Downloading data from https://storage.googleapis.com/tensorflow/tf-keras-datasets/mnist.npz\n",
            "11490434/11490434 [==============================] - 0s 0us/step\n"
          ]
        }
      ]
    },
    {
      "cell_type": "markdown",
      "source": [
        "The code above loads the MNIST dataset, which contains handwritten digits,and splits it into training and testing sets. It then normalizes the pixel values to ensure they are in the range [0, 1], which is a common preprocessing step when working with image data in neural networks."
      ],
      "metadata": {
        "id": "rTk0j0fFmmUB"
      }
    },
    {
      "cell_type": "markdown",
      "source": [
        "*Activity 2.1*\n",
        "=="
      ],
      "metadata": {
        "id": "tS7yWMW7mvax"
      }
    },
    {
      "cell_type": "code",
      "source": [
        "model = tf.keras.Sequential([\n",
        "    tf.keras.layers.Conv2D(32, (3, 3), activation='relu', input_shape=(28, 28, 1)),\n",
        "    tf.keras.layers.BatchNormalization(),\n",
        "    tf.keras.layers.MaxPooling2D((2, 2)),\n",
        "    tf.keras.layers.Conv2D(64, (3, 3), activation='relu'),\n",
        "    tf.keras.layers.BatchNormalization(),\n",
        "    tf.keras.layers.MaxPooling2D((2, 2)),\n",
        "    tf.keras.layers.Flatten(),\n",
        "    tf.keras.layers.Dense(128, activation='relu'),\n",
        "    tf.keras.layers.Dropout(0.5),  # Add Dropout layer with a dropout rate\n",
        "    tf.keras.layers.Dense(10, activation='softmax')\n",
        "])\n",
        "\n",
        "model.compile(optimizer='adam', loss='sparse_categorical_crossentropy', metrics=['accuracy'])\n",
        "model.fit(train_images, train_labels, epochs=5)\n",
        "\n",
        "test_loss, test_acc = model.evaluate(test_images, test_labels)\n",
        "model.save('mnist_cnn_model_with_dropout_bn.h5')\n",
        "\n",
        "loaded_model = tf.keras.models.load_model('mnist_cnn_model_with_dropout_bn.h5')\n",
        "\n",
        "test_loss, test_acc = loaded_model.evaluate(test_images, test_labels)\n",
        "\n",
        "print(\"Test accuracy:\", test_acc)"
      ],
      "metadata": {
        "colab": {
          "base_uri": "https://localhost:8080/"
        },
        "id": "D5BiAkFImrPY",
        "outputId": "987f6c12-9886-48cc-99c4-ee1f002e842e"
      },
      "execution_count": null,
      "outputs": [
        {
          "output_type": "stream",
          "name": "stdout",
          "text": [
            "Epoch 1/5\n",
            "1875/1875 [==============================] - 41s 21ms/step - loss: 0.2006 - accuracy: 0.9405\n",
            "Epoch 2/5\n",
            "1875/1875 [==============================] - 39s 21ms/step - loss: 0.0962 - accuracy: 0.9736\n",
            "Epoch 3/5\n",
            "1875/1875 [==============================] - 40s 21ms/step - loss: 0.0703 - accuracy: 0.9806\n",
            "Epoch 4/5\n",
            "1875/1875 [==============================] - 39s 21ms/step - loss: 0.0607 - accuracy: 0.9829\n",
            "Epoch 5/5\n",
            "1875/1875 [==============================] - 39s 21ms/step - loss: 0.0520 - accuracy: 0.9854\n",
            "313/313 [==============================] - 2s 6ms/step - loss: 0.0353 - accuracy: 0.9907\n"
          ]
        },
        {
          "output_type": "stream",
          "name": "stderr",
          "text": [
            "/usr/local/lib/python3.10/dist-packages/keras/src/engine/training.py:3000: UserWarning: You are saving your model as an HDF5 file via `model.save()`. This file format is considered legacy. We recommend using instead the native Keras format, e.g. `model.save('my_model.keras')`.\n",
            "  saving_api.save_model(\n"
          ]
        },
        {
          "output_type": "stream",
          "name": "stdout",
          "text": [
            "313/313 [==============================] - 2s 7ms/step - loss: 0.0353 - accuracy: 0.9907\n",
            "Test accuracy: 0.9907000064849854\n"
          ]
        }
      ]
    },
    {
      "cell_type": "markdown",
      "source": [
        "This program constructs a batch normalization and dropout layer convolutional neural network (CNN) model, trains it on the MNIST dataset for digit recognition, and assesses its performance. To do this, a network architecture is specified, it is compiled with an optimizer and a loss function, it is trained for five epochs, and finally the trained model is saved and loaded to test its accuracy on a test dataset.\n",
        "\n",
        "***Test accuracy:  0.9907000064849854***\n",
        "\n",
        "*Activity 2.2*\n",
        "=="
      ],
      "metadata": {
        "id": "kcqwgo--nsyS"
      }
    },
    {
      "cell_type": "code",
      "source": [
        "# Define a list of activation functions to experiment with: This list contains different activation functions, such as sigmoid, tanh, and relu, which will be used to modify the activation functions in the Convolutional Neural Network (CNN) layers for experimentation.\n",
        "activation_functions = ['sigmoid', 'tanh', 'relu']\n",
        "\n",
        "for activation_function in activation_functions:\n",
        "    # Build the CNN model with the specified activation function: A CNN model is constructed, and the specified activation function is applied to its convolutional and dense layers.\n",
        "    model = tf.keras.Sequential([\n",
        "        tf.keras.layers.Conv2D(32, (3, 3), activation=activation_function, input_shape=(28, 28, 1)),\n",
        "        tf.keras.layers.MaxPooling2D((2, 2)),\n",
        "        tf.keras.layers.Conv2D(64, (3, 3), activation=activation_function),\n",
        "        tf.keras.layers.MaxPooling2D((2, 2)),\n",
        "        tf.keras.layers.Flatten(),\n",
        "        tf.keras.layers.Dense(128, activation=activation_function),\n",
        "        tf.keras.layers.Dense(10, activation='softmax')\n",
        "    ])\n",
        "\n",
        "    # Compile the model: The model is configured with the Adam optimizer and sparse categorical cross-entropy loss for training, as well as accuracy as a metric for evaluation.\n",
        "\n",
        "    model.compile(optimizer='adam',\n",
        "                  loss='sparse_categorical_crossentropy',\n",
        "                  metrics=['accuracy'])\n",
        "\n",
        "    # Train the model: The CNN model is trained using the training images and labels for a fixed number of epochs (5 in this case).\n",
        "\n",
        "    model.fit(train_images, train_labels, epochs=5)\n",
        "\n",
        "    # Evaluate the model: The performance of the trained model is assessed using the test dataset, and its accuracy is computed.\n",
        "\n",
        "    test_loss, test_acc = model.evaluate(test_images, test_labels)\n",
        "\n",
        "    print(f\"Activation Function: {activation_function}\")  # Display the activation function being used in this iteration.\n",
        "    print(\"Test accuracy:\", test_acc)  # Display the test accuracy achieved by the model.\n",
        "    print(\"------------------\")  # Separating lines for clarity between different activation function experiments.\n"
      ],
      "metadata": {
        "colab": {
          "base_uri": "https://localhost:8080/"
        },
        "id": "6olTavknoJs4",
        "outputId": "c2ef4c33-23c0-4ff4-fa88-13c3aaae0b7e"
      },
      "execution_count": null,
      "outputs": [
        {
          "output_type": "stream",
          "name": "stdout",
          "text": [
            "Epoch 1/5\n",
            "1875/1875 [==============================] - 34s 18ms/step - loss: 0.5673 - accuracy: 0.8151\n",
            "Epoch 2/5\n",
            "1875/1875 [==============================] - 32s 17ms/step - loss: 0.1094 - accuracy: 0.9675\n",
            "Epoch 3/5\n",
            "1875/1875 [==============================] - 33s 18ms/step - loss: 0.0755 - accuracy: 0.9761\n",
            "Epoch 4/5\n",
            "1875/1875 [==============================] - 33s 17ms/step - loss: 0.0576 - accuracy: 0.9827\n",
            "Epoch 5/5\n",
            "1875/1875 [==============================] - 33s 17ms/step - loss: 0.0453 - accuracy: 0.9861\n",
            "313/313 [==============================] - 2s 6ms/step - loss: 0.0470 - accuracy: 0.9845\n",
            "Activation Function: sigmoid\n",
            "Test accuracy: 0.984499990940094\n",
            "------------------\n",
            "Epoch 1/5\n",
            "1875/1875 [==============================] - 33s 17ms/step - loss: 0.1237 - accuracy: 0.9619\n",
            "Epoch 2/5\n",
            "1875/1875 [==============================] - 33s 18ms/step - loss: 0.0452 - accuracy: 0.9863\n",
            "Epoch 3/5\n",
            "1875/1875 [==============================] - 33s 18ms/step - loss: 0.0301 - accuracy: 0.9910\n",
            "Epoch 4/5\n",
            "1875/1875 [==============================] - 32s 17ms/step - loss: 0.0219 - accuracy: 0.9934\n",
            "Epoch 5/5\n",
            "1875/1875 [==============================] - 33s 18ms/step - loss: 0.0191 - accuracy: 0.9939\n",
            "313/313 [==============================] - 2s 7ms/step - loss: 0.0378 - accuracy: 0.9879\n",
            "Activation Function: tanh\n",
            "Test accuracy: 0.9879000186920166\n",
            "------------------\n",
            "Epoch 1/5\n",
            "1875/1875 [==============================] - 31s 16ms/step - loss: 0.1314 - accuracy: 0.9599\n",
            "Epoch 2/5\n",
            "1875/1875 [==============================] - 31s 17ms/step - loss: 0.0443 - accuracy: 0.9863\n",
            "Epoch 3/5\n",
            "1875/1875 [==============================] - 30s 16ms/step - loss: 0.0299 - accuracy: 0.9904\n",
            "Epoch 4/5\n",
            "1875/1875 [==============================] - 31s 16ms/step - loss: 0.0218 - accuracy: 0.9929\n",
            "Epoch 5/5\n",
            "1875/1875 [==============================] - 31s 17ms/step - loss: 0.0162 - accuracy: 0.9949\n",
            "313/313 [==============================] - 2s 6ms/step - loss: 0.0389 - accuracy: 0.9884\n",
            "Activation Function: relu\n",
            "Test accuracy: 0.9883999824523926\n",
            "------------------\n"
          ]
        }
      ]
    },
    {
      "cell_type": "markdown",
      "source": [
        "**Activation functions:**\n",
        "\n",
        "**sigmoid - test accuracy: 0.984499990940094**\n",
        "\n",
        "**tanh - test accuracy: 0.9879000186920166**\n",
        "\n",
        "**relu - test accuracy 0.9883999824523926**\n",
        "\n",
        "\n",
        "\n",
        "This program defines a list of activation functions (sigmoid, tanh, and relu) for use in convolutional neural network (CNN) experiments. A CNN model is built, trained, and tested using the provided activation function on convolutional and dense layers for each activation function, with the results for each activation function being shown.\n",
        "\n",
        "\n",
        "*Activity 2.3*\n",
        "=="
      ],
      "metadata": {
        "id": "51QTl40crpgA"
      }
    },
    {
      "cell_type": "code",
      "source": [
        "model = tf.keras.Sequential([\n",
        "    tf.keras.layers.Conv2D(32, (3, 3), activation='relu', input_shape=(28, 28, 1)),\n",
        "    tf.keras.layers.MaxPooling2D((2, 2)),\n",
        "    tf.keras.layers.Conv2D(64, (3, 3), activation='relu'),\n",
        "    tf.keras.layers.MaxPooling2D((2, 2)),\n",
        "    tf.keras.layers.Conv2D(128, (3, 3), activation='relu'),  # Additional Conv2D layer\n",
        "    tf.keras.layers.MaxPooling2D((2, 2)),  # Additional MaxPooling2D layer\n",
        "    tf.keras.layers.Flatten(),\n",
        "    tf.keras.layers.Dense(128, activation='relu'),\n",
        "    tf.keras.layers.Dense(10, activation='softmax')\n",
        "])\n",
        "\n",
        "model.compile(optimizer='adam', loss='sparse_categorical_crossentropy', metrics=['accuracy'])\n",
        "model.fit(train_images, train_labels, epochs=5)\n",
        "\n",
        "test_loss, test_acc = model.evaluate(test_images, test_labels)\n",
        "print(\"Test accuracy:\", test_acc)"
      ],
      "metadata": {
        "colab": {
          "base_uri": "https://localhost:8080/"
        },
        "id": "TuuozLohsp1m",
        "outputId": "0a9d8294-2962-4905-8f61-0e844c4ee094"
      },
      "execution_count": 5,
      "outputs": [
        {
          "output_type": "stream",
          "name": "stdout",
          "text": [
            "Epoch 1/5\n",
            "1875/1875 [==============================] - 35s 18ms/step - loss: 0.1952 - accuracy: 0.9388\n",
            "Epoch 2/5\n",
            "1875/1875 [==============================] - 33s 18ms/step - loss: 0.0687 - accuracy: 0.9791\n",
            "Epoch 3/5\n",
            "1875/1875 [==============================] - 32s 17ms/step - loss: 0.0483 - accuracy: 0.9854\n",
            "Epoch 4/5\n",
            "1875/1875 [==============================] - 33s 17ms/step - loss: 0.0362 - accuracy: 0.9887\n",
            "Epoch 5/5\n",
            "1875/1875 [==============================] - 33s 17ms/step - loss: 0.0298 - accuracy: 0.9906\n",
            "313/313 [==============================] - 2s 6ms/step - loss: 0.0468 - accuracy: 0.9880\n",
            "Test accuracy: 0.9879999756813049\n"
          ]
        }
      ]
    },
    {
      "cell_type": "markdown",
      "source": [
        "Convolutional neural network (CNN) model for image categorization is defined by this code. The model is trained on training pictures using the Adam optimizer and assessed on a test dataset to calculate and show its test accuracy. The model is composed of three convolutional layers with increasing filter sizes and max-pooling layers, followed by two fully connected layers.\n",
        "\n",
        "*Activity 2.4*\n",
        "=="
      ],
      "metadata": {
        "id": "K_Imgz6Nt01n"
      }
    },
    {
      "cell_type": "code",
      "source": [
        "\n",
        "optimizers = ['sgd', 'rmsprop']\n",
        "\n",
        "for optimizer in optimizers:\n",
        "    model = tf.keras.Sequential([\n",
        "        tf.keras.layers.Conv2D(32, (3, 3), activation='relu', input_shape=(28, 28, 1)),\n",
        "        tf.keras.layers.MaxPooling2D((2, 2)),\n",
        "        tf.keras.layers.Flatten(),\n",
        "        tf.keras.layers.Dense(128, activation='relu'),\n",
        "        tf.keras.layers.Dense(10, activation='softmax')\n",
        "    ])\n",
        "\n",
        "    model.compile(optimizer=optimizer, loss='sparse_categorical_crossentropy', metrics=['accuracy'])\n",
        "    model.fit(train_images, train_labels, epochs=5)\n",
        "\n",
        "    test_loss, test_acc = model.evaluate(test_images, test_labels)\n",
        "    print(f\"Test accuracy with {optimizer} optimizer:\", test_acc)"
      ],
      "metadata": {
        "colab": {
          "base_uri": "https://localhost:8080/"
        },
        "id": "CczlfkmduBA9",
        "outputId": "fc337627-8901-494d-9783-66cd6f35b06e"
      },
      "execution_count": 6,
      "outputs": [
        {
          "output_type": "stream",
          "name": "stdout",
          "text": [
            "Epoch 1/5\n",
            "1875/1875 [==============================] - 21s 11ms/step - loss: 0.4583 - accuracy: 0.8741\n",
            "Epoch 2/5\n",
            "1875/1875 [==============================] - 21s 11ms/step - loss: 0.2167 - accuracy: 0.9365\n",
            "Epoch 3/5\n",
            "1875/1875 [==============================] - 20s 11ms/step - loss: 0.1609 - accuracy: 0.9531\n",
            "Epoch 4/5\n",
            "1875/1875 [==============================] - 20s 10ms/step - loss: 0.1293 - accuracy: 0.9619\n",
            "Epoch 5/5\n",
            "1875/1875 [==============================] - 20s 11ms/step - loss: 0.1084 - accuracy: 0.9683\n",
            "313/313 [==============================] - 1s 4ms/step - loss: 0.0942 - accuracy: 0.9724\n",
            "Test accuracy with sgd optimizer: 0.9724000096321106\n",
            "Epoch 1/5\n",
            "1875/1875 [==============================] - 23s 12ms/step - loss: 0.1550 - accuracy: 0.9529\n",
            "Epoch 2/5\n",
            "1875/1875 [==============================] - 22s 12ms/step - loss: 0.0519 - accuracy: 0.9844\n",
            "Epoch 3/5\n",
            "1875/1875 [==============================] - 23s 12ms/step - loss: 0.0356 - accuracy: 0.9893\n",
            "Epoch 4/5\n",
            "1875/1875 [==============================] - 22s 12ms/step - loss: 0.0250 - accuracy: 0.9922\n",
            "Epoch 5/5\n",
            "1875/1875 [==============================] - 27s 14ms/step - loss: 0.0176 - accuracy: 0.9946\n",
            "313/313 [==============================] - 1s 4ms/step - loss: 0.0481 - accuracy: 0.9866\n",
            "Test accuracy with rmsprop optimizer: 0.9865999817848206\n"
          ]
        }
      ]
    },
    {
      "cell_type": "markdown",
      "source": [
        "Using two alternative optimizers, SGD (Stochastic Gradient Descent) and RMSprop, a convolutional neural network (CNN) model for image classification is trained in this code. Convolutional and dense layers are included in the model, which is trained using each optimizer for 5 epochs. The test accuracy is assessed and shown for each optimizer independently.\n",
        "\n",
        "**Test accuracy with sgd optimizer: 0.9724000096321106**\n",
        "\n",
        "**Test accuracy with rmsprop optimizer: 0.9865999817848206**\n",
        "\n",
        "*Activity 2.5*\n",
        "=="
      ],
      "metadata": {
        "id": "7hB5cJSKu9GJ"
      }
    },
    {
      "cell_type": "code",
      "source": [
        "model = tf . keras . Sequential ([\n",
        "    tf.keras.layers.Conv2D(32 , (3,3) , activation ='relu',input_shape =(28 , 28 , 1) ) ,\n",
        "    tf.keras.layers.MaxPooling2D ((2 , 2) ) ,\n",
        "    tf.keras.layers.Conv2D(64 , (3 ,3) , activation ='relu') ,\n",
        "    tf.keras.layers.MaxPooling2D((2 , 2) ) ,\n",
        "    tf.keras.layers.Flatten() ,\n",
        "    tf.keras.layers.Dense(128 , activation ='relu') ,\n",
        "    tf.keras.layers.Dense(10 , activation ='softmax')\n",
        "])\n",
        "\n",
        "\n",
        "model.compile( optimizer ='adam' ,loss = 'sparse_categorical_crossentropy',metrics = [ 'accuracy'])\n",
        "model.fit( train_images , train_labels , epochs =5)\n",
        "\n",
        "test_loss , test_acc = model . evaluate ( test_images , test_labels)\n",
        "model.save ('mnist_cnn_model.h5')\n",
        "\n",
        "loaded_model = tf.keras.models.load_model ('mnist_cnn_model.h5')\n",
        "\n",
        "test_loss , test_acc = loaded_model.evaluate (test_images ,test_labels)\n",
        "\n",
        "print(\"Test accuracy:\", test_acc)"
      ],
      "metadata": {
        "colab": {
          "base_uri": "https://localhost:8080/"
        },
        "id": "-h5cnZp3vT7D",
        "outputId": "6edd65b2-0893-441a-c085-0690ca06e0d6"
      },
      "execution_count": 7,
      "outputs": [
        {
          "output_type": "stream",
          "name": "stdout",
          "text": [
            "Epoch 1/5\n",
            "1875/1875 [==============================] - 31s 16ms/step - loss: 0.1262 - accuracy: 0.9618\n",
            "Epoch 2/5\n",
            "1875/1875 [==============================] - 31s 16ms/step - loss: 0.0431 - accuracy: 0.9865\n",
            "Epoch 3/5\n",
            "1875/1875 [==============================] - 31s 17ms/step - loss: 0.0291 - accuracy: 0.9908\n",
            "Epoch 4/5\n",
            "1875/1875 [==============================] - 30s 16ms/step - loss: 0.0206 - accuracy: 0.9932\n",
            "Epoch 5/5\n",
            "1875/1875 [==============================] - 30s 16ms/step - loss: 0.0157 - accuracy: 0.9953\n",
            "313/313 [==============================] - 2s 5ms/step - loss: 0.0397 - accuracy: 0.9876\n",
            "313/313 [==============================] - 2s 7ms/step - loss: 0.0397 - accuracy: 0.9876\n",
            "Test accuracy: 0.9876000285148621\n"
          ]
        }
      ]
    },
    {
      "cell_type": "markdown",
      "source": [
        "This code defines a convolutional neural network (CNN) model for image classification that consists of fully connected layers, max-pooling layers, and convolutional layers using ReLU activation functions. The Adam optimizer and sparse categorical cross-entropy loss are used to build the model, which is then trained for five iterations on a dataset of training pictures and labels.\n",
        "\n",
        "The model is stored to a file called \"mnist_cnn_model.h5\" after training. It is then loaded back into memory with the use of the 'tf.keras.models.load_model' command, and its performance is assessed using a test dataset, with the test accuracy being output on the terminal. This shows how trained models may be saved and loaded for use at a later time.\n",
        "\n",
        "**Test accuracy: 0.9876000285148621**"
      ],
      "metadata": {
        "id": "5yXk3Eztwcce"
      }
    }
  ]
}