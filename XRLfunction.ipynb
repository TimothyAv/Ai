{
  "nbformat": 4,
  "nbformat_minor": 0,
  "metadata": {
    "colab": {
      "provenance": [],
      "gpuType": "T4",
      "authorship_tag": "ABX9TyOQ/SUfubPXWSp9fDoqKPie",
      "include_colab_link": true
    },
    "kernelspec": {
      "name": "python3",
      "display_name": "Python 3"
    },
    "language_info": {
      "name": "python"
    },
    "accelerator": "GPU"
  },
  "cells": [
    {
      "cell_type": "markdown",
      "metadata": {
        "id": "view-in-github",
        "colab_type": "text"
      },
      "source": [
        "<a href=\"https://colab.research.google.com/github/TimothyAv/Ai/blob/main/XRLfunction.ipynb\" target=\"_parent\"><img src=\"https://colab.research.google.com/assets/colab-badge.svg\" alt=\"Open In Colab\"/></a>"
      ]
    },
    {
      "cell_type": "code",
      "execution_count": null,
      "metadata": {
        "id": "S9dwVRWG0sCX"
      },
      "outputs": [],
      "source": [
        "!pip install -q keras\n"
      ]
    },
    {
      "cell_type": "code",
      "source": [
        "import pandas as pd\n",
        "from google.colab import files\n",
        "files.upload()"
      ],
      "metadata": {
        "colab": {
          "base_uri": "https://localhost:8080/",
          "height": 90
        },
        "id": "7mdzwFOs-beX",
        "outputId": "d07b3624-8a6a-4e79-8680-1ef0624afa4c"
      },
      "execution_count": null,
      "outputs": [
        {
          "output_type": "display_data",
          "data": {
            "text/plain": [
              "<IPython.core.display.HTML object>"
            ],
            "text/html": [
              "\n",
              "     <input type=\"file\" id=\"files-2d9b1261-f12d-4e1d-be6a-c96a27858dbd\" name=\"files[]\" multiple disabled\n",
              "        style=\"border:none\" />\n",
              "     <output id=\"result-2d9b1261-f12d-4e1d-be6a-c96a27858dbd\">\n",
              "      Upload widget is only available when the cell has been executed in the\n",
              "      current browser session. Please rerun this cell to enable.\n",
              "      </output>\n",
              "      <script>// Copyright 2017 Google LLC\n",
              "//\n",
              "// Licensed under the Apache License, Version 2.0 (the \"License\");\n",
              "// you may not use this file except in compliance with the License.\n",
              "// You may obtain a copy of the License at\n",
              "//\n",
              "//      http://www.apache.org/licenses/LICENSE-2.0\n",
              "//\n",
              "// Unless required by applicable law or agreed to in writing, software\n",
              "// distributed under the License is distributed on an \"AS IS\" BASIS,\n",
              "// WITHOUT WARRANTIES OR CONDITIONS OF ANY KIND, either express or implied.\n",
              "// See the License for the specific language governing permissions and\n",
              "// limitations under the License.\n",
              "\n",
              "/**\n",
              " * @fileoverview Helpers for google.colab Python module.\n",
              " */\n",
              "(function(scope) {\n",
              "function span(text, styleAttributes = {}) {\n",
              "  const element = document.createElement('span');\n",
              "  element.textContent = text;\n",
              "  for (const key of Object.keys(styleAttributes)) {\n",
              "    element.style[key] = styleAttributes[key];\n",
              "  }\n",
              "  return element;\n",
              "}\n",
              "\n",
              "// Max number of bytes which will be uploaded at a time.\n",
              "const MAX_PAYLOAD_SIZE = 100 * 1024;\n",
              "\n",
              "function _uploadFiles(inputId, outputId) {\n",
              "  const steps = uploadFilesStep(inputId, outputId);\n",
              "  const outputElement = document.getElementById(outputId);\n",
              "  // Cache steps on the outputElement to make it available for the next call\n",
              "  // to uploadFilesContinue from Python.\n",
              "  outputElement.steps = steps;\n",
              "\n",
              "  return _uploadFilesContinue(outputId);\n",
              "}\n",
              "\n",
              "// This is roughly an async generator (not supported in the browser yet),\n",
              "// where there are multiple asynchronous steps and the Python side is going\n",
              "// to poll for completion of each step.\n",
              "// This uses a Promise to block the python side on completion of each step,\n",
              "// then passes the result of the previous step as the input to the next step.\n",
              "function _uploadFilesContinue(outputId) {\n",
              "  const outputElement = document.getElementById(outputId);\n",
              "  const steps = outputElement.steps;\n",
              "\n",
              "  const next = steps.next(outputElement.lastPromiseValue);\n",
              "  return Promise.resolve(next.value.promise).then((value) => {\n",
              "    // Cache the last promise value to make it available to the next\n",
              "    // step of the generator.\n",
              "    outputElement.lastPromiseValue = value;\n",
              "    return next.value.response;\n",
              "  });\n",
              "}\n",
              "\n",
              "/**\n",
              " * Generator function which is called between each async step of the upload\n",
              " * process.\n",
              " * @param {string} inputId Element ID of the input file picker element.\n",
              " * @param {string} outputId Element ID of the output display.\n",
              " * @return {!Iterable<!Object>} Iterable of next steps.\n",
              " */\n",
              "function* uploadFilesStep(inputId, outputId) {\n",
              "  const inputElement = document.getElementById(inputId);\n",
              "  inputElement.disabled = false;\n",
              "\n",
              "  const outputElement = document.getElementById(outputId);\n",
              "  outputElement.innerHTML = '';\n",
              "\n",
              "  const pickedPromise = new Promise((resolve) => {\n",
              "    inputElement.addEventListener('change', (e) => {\n",
              "      resolve(e.target.files);\n",
              "    });\n",
              "  });\n",
              "\n",
              "  const cancel = document.createElement('button');\n",
              "  inputElement.parentElement.appendChild(cancel);\n",
              "  cancel.textContent = 'Cancel upload';\n",
              "  const cancelPromise = new Promise((resolve) => {\n",
              "    cancel.onclick = () => {\n",
              "      resolve(null);\n",
              "    };\n",
              "  });\n",
              "\n",
              "  // Wait for the user to pick the files.\n",
              "  const files = yield {\n",
              "    promise: Promise.race([pickedPromise, cancelPromise]),\n",
              "    response: {\n",
              "      action: 'starting',\n",
              "    }\n",
              "  };\n",
              "\n",
              "  cancel.remove();\n",
              "\n",
              "  // Disable the input element since further picks are not allowed.\n",
              "  inputElement.disabled = true;\n",
              "\n",
              "  if (!files) {\n",
              "    return {\n",
              "      response: {\n",
              "        action: 'complete',\n",
              "      }\n",
              "    };\n",
              "  }\n",
              "\n",
              "  for (const file of files) {\n",
              "    const li = document.createElement('li');\n",
              "    li.append(span(file.name, {fontWeight: 'bold'}));\n",
              "    li.append(span(\n",
              "        `(${file.type || 'n/a'}) - ${file.size} bytes, ` +\n",
              "        `last modified: ${\n",
              "            file.lastModifiedDate ? file.lastModifiedDate.toLocaleDateString() :\n",
              "                                    'n/a'} - `));\n",
              "    const percent = span('0% done');\n",
              "    li.appendChild(percent);\n",
              "\n",
              "    outputElement.appendChild(li);\n",
              "\n",
              "    const fileDataPromise = new Promise((resolve) => {\n",
              "      const reader = new FileReader();\n",
              "      reader.onload = (e) => {\n",
              "        resolve(e.target.result);\n",
              "      };\n",
              "      reader.readAsArrayBuffer(file);\n",
              "    });\n",
              "    // Wait for the data to be ready.\n",
              "    let fileData = yield {\n",
              "      promise: fileDataPromise,\n",
              "      response: {\n",
              "        action: 'continue',\n",
              "      }\n",
              "    };\n",
              "\n",
              "    // Use a chunked sending to avoid message size limits. See b/62115660.\n",
              "    let position = 0;\n",
              "    do {\n",
              "      const length = Math.min(fileData.byteLength - position, MAX_PAYLOAD_SIZE);\n",
              "      const chunk = new Uint8Array(fileData, position, length);\n",
              "      position += length;\n",
              "\n",
              "      const base64 = btoa(String.fromCharCode.apply(null, chunk));\n",
              "      yield {\n",
              "        response: {\n",
              "          action: 'append',\n",
              "          file: file.name,\n",
              "          data: base64,\n",
              "        },\n",
              "      };\n",
              "\n",
              "      let percentDone = fileData.byteLength === 0 ?\n",
              "          100 :\n",
              "          Math.round((position / fileData.byteLength) * 100);\n",
              "      percent.textContent = `${percentDone}% done`;\n",
              "\n",
              "    } while (position < fileData.byteLength);\n",
              "  }\n",
              "\n",
              "  // All done.\n",
              "  yield {\n",
              "    response: {\n",
              "      action: 'complete',\n",
              "    }\n",
              "  };\n",
              "}\n",
              "\n",
              "scope.google = scope.google || {};\n",
              "scope.google.colab = scope.google.colab || {};\n",
              "scope.google.colab._files = {\n",
              "  _uploadFiles,\n",
              "  _uploadFilesContinue,\n",
              "};\n",
              "})(self);\n",
              "</script> "
            ]
          },
          "metadata": {}
        },
        {
          "output_type": "stream",
          "name": "stdout",
          "text": [
            "Saving kaggle.json to kaggle.json\n"
          ]
        },
        {
          "output_type": "execute_result",
          "data": {
            "text/plain": [
              "{'kaggle.json': b'{\"username\":\"temuraxrorov\",\"key\":\"499a275734db184d7e77ccc3757a9817\"}'}"
            ]
          },
          "metadata": {},
          "execution_count": 4
        }
      ]
    },
    {
      "cell_type": "code",
      "source": [
        "!mkdir -p ~/.kaggle\n",
        "!cp kaggle.json ~/.kaggle/\n",
        "!chmod 600 ~/.kaggle/kaggle.json\n"
      ],
      "metadata": {
        "id": "GZiHTJrR-1V_"
      },
      "execution_count": null,
      "outputs": []
    },
    {
      "cell_type": "code",
      "source": [
        "!kaggle datasets download -d oddrationale/mnist-in-csv\n"
      ],
      "metadata": {
        "colab": {
          "base_uri": "https://localhost:8080/"
        },
        "id": "KZBj6jjt_vAK",
        "outputId": "90fcea8a-ab61-4b9b-8dc7-9f25d238423d"
      },
      "execution_count": null,
      "outputs": [
        {
          "output_type": "stream",
          "name": "stdout",
          "text": [
            "Downloading mnist-in-csv.zip to /content\n",
            " 53% 8.00M/15.2M [00:00<00:00, 80.1MB/s]\n",
            "100% 15.2M/15.2M [00:00<00:00, 119MB/s] \n"
          ]
        }
      ]
    },
    {
      "cell_type": "code",
      "source": [
        "!unzip mnist-in-csv.zip\n"
      ],
      "metadata": {
        "colab": {
          "base_uri": "https://localhost:8080/"
        },
        "id": "JPkHyvWT_998",
        "outputId": "e045b687-578d-40c8-aae7-18a6e71b1e80"
      },
      "execution_count": null,
      "outputs": [
        {
          "output_type": "stream",
          "name": "stdout",
          "text": [
            "Archive:  mnist-in-csv.zip\n",
            "  inflating: mnist_test.csv          \n",
            "  inflating: mnist_train.csv         \n"
          ]
        }
      ]
    },
    {
      "cell_type": "code",
      "source": [
        "df = pd.read_csv('/content/mnist_test.csv')"
      ],
      "metadata": {
        "id": "DZ8AIWo_AHqI"
      },
      "execution_count": null,
      "outputs": []
    },
    {
      "cell_type": "code",
      "source": [
        "!pwd"
      ],
      "metadata": {
        "colab": {
          "base_uri": "https://localhost:8080/"
        },
        "id": "bvhj_XEtATgY",
        "outputId": "cbb6c1a0-f663-4366-ee5c-5d44acbb2e25"
      },
      "execution_count": null,
      "outputs": [
        {
          "output_type": "stream",
          "name": "stdout",
          "text": [
            "/content\n"
          ]
        }
      ]
    },
    {
      "cell_type": "code",
      "source": [
        "!mkdir my_project\n"
      ],
      "metadata": {
        "id": "tUYRepyiAYNC"
      },
      "execution_count": null,
      "outputs": []
    },
    {
      "cell_type": "code",
      "source": [
        "def state(b):\n",
        "  x = 5*b+4\n",
        "  print(x)"
      ],
      "metadata": {
        "id": "rWVc7g5oAj4n"
      },
      "execution_count": null,
      "outputs": []
    },
    {
      "cell_type": "code",
      "source": [
        "state(8)"
      ],
      "metadata": {
        "colab": {
          "base_uri": "https://localhost:8080/"
        },
        "id": "SLipwu0ZA90w",
        "outputId": "8231fb28-0ab8-41ae-ed93-d51658ab6f79"
      },
      "execution_count": null,
      "outputs": [
        {
          "output_type": "stream",
          "name": "stdout",
          "text": [
            "44\n"
          ]
        }
      ]
    },
    {
      "cell_type": "code",
      "source": [
        "import numpy as np\n",
        "np.random.seed(3)\n",
        "LEARNING_RATE = 0.1\n",
        "index_list = [0, 1, 2]\n",
        "\n",
        "x_train = [np.array([1.0, -1.0, -1.0]),\n",
        "np.array([1.0, 1.0, -1.0]),\n",
        "np.array([1.0, 1.0, 1.0])]\n",
        "y_train = [0.0, 1.0, 1.0, 0.0]\n",
        "\n",
        "def neuron_w(input_count):\n",
        "  weights = np.zeros(input_count+1)\n",
        "  for i in range(1,(input_count+1)):\n",
        "   weights[i] = np.random.uniform(-1.0, 1.0)\n",
        "   return weights\n",
        "n_w = [neuron_w(2), neuron_w(2), neuron_w(2)]\n",
        "n_y = [0, 0, 0]\n",
        "n_error = [0, 0, 0]\n",
        "\n",
        "def show_learning():\n",
        "  print('Current weights:')\n",
        "for i, w in enumerate(n_w):\n",
        "  print('neuron ', i, ': w0 =' , '%5.2f' % w[0], ', w1 =' , '%5.2f' % w[1], ', w2 =', '%5.2f' % w[2])\n",
        "  print('----------------')\n",
        "def forward_pass(x):\n",
        "  global n_y\n",
        "  n_y[0] = np.tanh(np.dot(n_w[0], x))\n",
        "  n_y[1] = np.tanh(np.dot(n_w[1], x))\n",
        "  n2_inputs = np.array([1.0, n_y[0], n_y[1]])\n",
        "  z2 = np.dot(n_w[2], n2_inputs)\n",
        "  n_y[2] = 1.0 / (1.0 + np.exp(-z2))\n",
        "\n",
        "\n",
        "def backward_pass(y_truth):\n",
        "  global n_error\n",
        "  error_prime = -(y_truth - n_y[2])\n",
        "  derivative = n_y[2] * (1.0 - n_y[2])\n",
        "  n_error[2] = error_prime * derivative\n",
        "  derivative = 1.0 - n_y[0]**2\n",
        "  n_error[0] = n_w[2][1] * n_error[2] * derivative\n",
        "  derivative = 1.0 - n_y[1]**2\n",
        "  n_error[1] = n_w[2][2] * n_error[2] * derivative\n",
        "def adjust_weights(x):\n",
        "  global n_w\n",
        "  n_w[0] -= (x * LEARNING_RATE * n_error[0])\n",
        "  n_w[1] -= (x * LEARNING_RATE * n_error[1])\n",
        "  n2_inputs = np.array([1.0, n_y[0], n_y[1]])\n",
        "  n_w[2] -= (n2_inputs * LEARNING_RATE * n_error[2])"
      ],
      "metadata": {
        "colab": {
          "base_uri": "https://localhost:8080/"
        },
        "id": "6RW3c4bjAbpt",
        "outputId": "de7ff20d-cfa4-452e-f925-ac9543bfba7e"
      },
      "execution_count": null,
      "outputs": [
        {
          "output_type": "stream",
          "name": "stdout",
          "text": [
            "neuron  0 : w0 =  0.00 , w1 =  0.10 , w2 =  0.00\n",
            "----------------\n",
            "neuron  1 : w0 =  0.00 , w1 =  0.42 , w2 =  0.00\n",
            "----------------\n",
            "neuron  2 : w0 =  0.00 , w1 = -0.42 , w2 =  0.00\n",
            "----------------\n"
          ]
        }
      ]
    },
    {
      "cell_type": "code",
      "source": [
        "all_correct = False\n",
        "while not all_correct:\n",
        "  all_correct = True\n",
        "  np.random.shuffle(index_list)\n",
        "  for i in index_list:\n",
        "    forward_pass(x_train[i])\n",
        "    backward_pass(y_train[i])\n",
        "    adjust_weights(x_train[i])\n",
        "    show_learning()\n",
        "  for i in range(len(x_train)):\n",
        "    forward_pass(x_train[i])\n",
        "    print('x1 =', '%4.1f' % x_train[i][1], ', x2 =',\n",
        "          '%4.1f' % x_train[i][2], ', y =',\n",
        "          '%4.1f' % n_y[2])\n",
        "    if(((y_train[i] < 0.5) and (n_y[2] >=0.5)) or ((y_train[i] >= 0.5) and (n_y[2] < 0.5))):\n",
        "      all_correct = False"
      ],
      "metadata": {
        "id": "YL0Nb1ya90fq",
        "colab": {
          "base_uri": "https://localhost:8080/"
        },
        "outputId": "223161fc-7f68-460d-cdb3-f6e4a38b3179"
      },
      "execution_count": null,
      "outputs": [
        {
          "output_type": "stream",
          "name": "stdout",
          "text": [
            "Current weights:\n",
            "Current weights:\n",
            "Current weights:\n",
            "x1 = -1.0 , x2 = -1.0 , y =  0.5\n",
            "x1 =  1.0 , x2 = -1.0 , y =  0.5\n",
            "x1 =  1.0 , x2 =  1.0 , y =  0.5\n",
            "Current weights:\n",
            "Current weights:\n",
            "Current weights:\n",
            "x1 = -1.0 , x2 = -1.0 , y =  0.5\n",
            "x1 =  1.0 , x2 = -1.0 , y =  0.5\n",
            "x1 =  1.0 , x2 =  1.0 , y =  0.5\n",
            "Current weights:\n",
            "Current weights:\n",
            "Current weights:\n",
            "x1 = -1.0 , x2 = -1.0 , y =  0.5\n",
            "x1 =  1.0 , x2 = -1.0 , y =  0.5\n",
            "x1 =  1.0 , x2 =  1.0 , y =  0.5\n",
            "Current weights:\n",
            "Current weights:\n",
            "Current weights:\n",
            "x1 = -1.0 , x2 = -1.0 , y =  0.5\n",
            "x1 =  1.0 , x2 = -1.0 , y =  0.5\n",
            "x1 =  1.0 , x2 =  1.0 , y =  0.5\n",
            "Current weights:\n",
            "Current weights:\n",
            "Current weights:\n",
            "x1 = -1.0 , x2 = -1.0 , y =  0.5\n",
            "x1 =  1.0 , x2 = -1.0 , y =  0.5\n",
            "x1 =  1.0 , x2 =  1.0 , y =  0.5\n",
            "Current weights:\n",
            "Current weights:\n",
            "Current weights:\n",
            "x1 = -1.0 , x2 = -1.0 , y =  0.5\n",
            "x1 =  1.0 , x2 = -1.0 , y =  0.5\n",
            "x1 =  1.0 , x2 =  1.0 , y =  0.5\n",
            "Current weights:\n",
            "Current weights:\n",
            "Current weights:\n",
            "x1 = -1.0 , x2 = -1.0 , y =  0.5\n",
            "x1 =  1.0 , x2 = -1.0 , y =  0.5\n",
            "x1 =  1.0 , x2 =  1.0 , y =  0.5\n",
            "Current weights:\n",
            "Current weights:\n",
            "Current weights:\n",
            "x1 = -1.0 , x2 = -1.0 , y =  0.5\n",
            "x1 =  1.0 , x2 = -1.0 , y =  0.5\n",
            "x1 =  1.0 , x2 =  1.0 , y =  0.5\n",
            "Current weights:\n",
            "Current weights:\n",
            "Current weights:\n",
            "x1 = -1.0 , x2 = -1.0 , y =  0.5\n",
            "x1 =  1.0 , x2 = -1.0 , y =  0.5\n",
            "x1 =  1.0 , x2 =  1.0 , y =  0.6\n",
            "Current weights:\n",
            "Current weights:\n",
            "Current weights:\n",
            "x1 = -1.0 , x2 = -1.0 , y =  0.5\n",
            "x1 =  1.0 , x2 = -1.0 , y =  0.5\n",
            "x1 =  1.0 , x2 =  1.0 , y =  0.6\n",
            "Current weights:\n",
            "Current weights:\n",
            "Current weights:\n",
            "x1 = -1.0 , x2 = -1.0 , y =  0.5\n",
            "x1 =  1.0 , x2 = -1.0 , y =  0.6\n",
            "x1 =  1.0 , x2 =  1.0 , y =  0.6\n",
            "Current weights:\n",
            "Current weights:\n",
            "Current weights:\n",
            "x1 = -1.0 , x2 = -1.0 , y =  0.5\n",
            "x1 =  1.0 , x2 = -1.0 , y =  0.6\n",
            "x1 =  1.0 , x2 =  1.0 , y =  0.6\n",
            "Current weights:\n",
            "Current weights:\n",
            "Current weights:\n",
            "x1 = -1.0 , x2 = -1.0 , y =  0.5\n",
            "x1 =  1.0 , x2 = -1.0 , y =  0.6\n",
            "x1 =  1.0 , x2 =  1.0 , y =  0.6\n",
            "Current weights:\n",
            "Current weights:\n",
            "Current weights:\n",
            "x1 = -1.0 , x2 = -1.0 , y =  0.5\n",
            "x1 =  1.0 , x2 = -1.0 , y =  0.6\n",
            "x1 =  1.0 , x2 =  1.0 , y =  0.6\n",
            "Current weights:\n",
            "Current weights:\n",
            "Current weights:\n",
            "x1 = -1.0 , x2 = -1.0 , y =  0.5\n",
            "x1 =  1.0 , x2 = -1.0 , y =  0.6\n",
            "x1 =  1.0 , x2 =  1.0 , y =  0.6\n",
            "Current weights:\n",
            "Current weights:\n",
            "Current weights:\n",
            "x1 = -1.0 , x2 = -1.0 , y =  0.5\n",
            "x1 =  1.0 , x2 = -1.0 , y =  0.6\n",
            "x1 =  1.0 , x2 =  1.0 , y =  0.6\n"
          ]
        }
      ]
    }
  ]
}